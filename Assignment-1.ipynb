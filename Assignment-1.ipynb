{
 "cells": [
  {
   "cell_type": "code",
   "execution_count": 1,
   "id": "e5801a1d",
   "metadata": {},
   "outputs": [],
   "source": [
    "# Question -1"
   ]
  },
  {
   "cell_type": "code",
   "execution_count": 2,
   "id": "678c7f57",
   "metadata": {},
   "outputs": [],
   "source": [
    "# string\n",
    "s = \"shiv\"\n",
    "\n",
    "# List\n",
    "li = [1,2,3,4,'Shiv',1+5j,True]\n",
    "\n",
    "# Float\n",
    "fl = 2.5\n",
    "\n",
    "# Tuple\n",
    "t = (1,2,3,'shiv',1+5j)\n"
   ]
  },
  {
   "cell_type": "code",
   "execution_count": 3,
   "id": "60bbaaf0",
   "metadata": {},
   "outputs": [],
   "source": [
    "# Question - 2"
   ]
  },
  {
   "cell_type": "code",
   "execution_count": 4,
   "id": "6b4554f2",
   "metadata": {},
   "outputs": [
    {
     "ename": "SyntaxError",
     "evalue": "invalid character '‘' (U+2018) (1341407249.py, line 1)",
     "output_type": "error",
     "traceback": [
      "\u001b[0;36m  File \u001b[0;32m\"/tmp/ipykernel_14809/1341407249.py\"\u001b[0;36m, line \u001b[0;32m1\u001b[0m\n\u001b[0;31m    var1 = ‘ ‘\u001b[0m\n\u001b[0m           ^\u001b[0m\n\u001b[0;31mSyntaxError\u001b[0m\u001b[0;31m:\u001b[0m invalid character '‘' (U+2018)\n"
     ]
    }
   ],
   "source": [
    "var1 = ‘ ‘\n",
    "var2 = ‘[ DS , ML , Python]’\n",
    "var3 = [ ‘DS’ , ’ML’ , ‘Python’ ]\n",
    "var4 = 1.\n",
    "\n",
    "# Error"
   ]
  },
  {
   "cell_type": "code",
   "execution_count": null,
   "id": "c8281160",
   "metadata": {},
   "outputs": [],
   "source": [
    "# Question 3 "
   ]
  },
  {
   "cell_type": "code",
   "execution_count": null,
   "id": "85d180e0",
   "metadata": {},
   "outputs": [],
   "source": [
    "# / Division operator\n",
    "a = 10\n",
    "b = 10\n",
    "\n",
    "c = a/b\n",
    "\n",
    "print(c)"
   ]
  },
  {
   "cell_type": "code",
   "execution_count": null,
   "id": "af94e226",
   "metadata": {},
   "outputs": [],
   "source": [
    "# % modulo  it gives reminder \n",
    "a = 10\n",
    "b = 10\n",
    "\n",
    "c = a%b\n",
    "\n",
    "print(c)"
   ]
  },
  {
   "cell_type": "code",
   "execution_count": null,
   "id": "509a5ab5",
   "metadata": {},
   "outputs": [],
   "source": [
    "#  // floor division basically it divide the number but the answer is in rounds down to the nearest whole number\n",
    "\n",
    "a = 7\n",
    "b = 2\n",
    "\n",
    "c = a//b\n",
    "print(c)\n",
    "\n",
    "# correct anser is 3.5 but it gives only 3"
   ]
  },
  {
   "cell_type": "code",
   "execution_count": null,
   "id": "bbe3400d",
   "metadata": {},
   "outputs": [],
   "source": [
    "# ** this operator is used for exponentiation\n",
    "a = 10\n",
    "b = 2\n",
    "\n",
    "a**b\n",
    "\n"
   ]
  },
  {
   "cell_type": "code",
   "execution_count": null,
   "id": "f86d8aec",
   "metadata": {},
   "outputs": [],
   "source": [
    "# Question 4"
   ]
  },
  {
   "cell_type": "code",
   "execution_count": null,
   "id": "b1429215",
   "metadata": {},
   "outputs": [],
   "source": [
    "li = [1,2,3,4,5,'shiv',1+5j,True,45.2,'king']\n",
    "for i in li:\n",
    "    print(i) \n",
    "    print(type(i))"
   ]
  },
  {
   "cell_type": "code",
   "execution_count": null,
   "id": "cfe5dd4d",
   "metadata": {},
   "outputs": [],
   "source": [
    "# Question 5"
   ]
  },
  {
   "cell_type": "code",
   "execution_count": null,
   "id": "7f3a55eb",
   "metadata": {},
   "outputs": [],
   "source": [
    "A = 10\n",
    "B = 5\n",
    "count = 0\n",
    "while A  % B == 0:\n",
    "    print(f\"{A} is divisible by {B}\")\n",
    "    \n",
    "    \n",
    "\n",
    "\n"
   ]
  },
  {
   "cell_type": "code",
   "execution_count": null,
   "id": "47f3b320",
   "metadata": {},
   "outputs": [],
   "source": [
    "# Question 6"
   ]
  },
  {
   "cell_type": "code",
   "execution_count": null,
   "id": "3ea004da",
   "metadata": {},
   "outputs": [],
   "source": [
    "li = [1,2,3,4,5,6,7,8,9,10,11,12,13,14,15,16,17,18,19,20,21,22,23,24,25]\n",
    "for i in li:\n",
    "    if i % 3 == 0:\n",
    "        print(f\"{i} is divisible by 3\")\n",
    "    else : \n",
    "        print(f\"{i} is not divisible by 3\")"
   ]
  },
  {
   "cell_type": "code",
   "execution_count": null,
   "id": "eb164271",
   "metadata": {},
   "outputs": [],
   "source": [
    "# Question 7"
   ]
  },
  {
   "cell_type": "code",
   "execution_count": null,
   "id": "1582c658",
   "metadata": {},
   "outputs": [],
   "source": [
    "#  mutable means in  same index of that value we can change the  value  of that variable for example list "
   ]
  },
  {
   "cell_type": "code",
   "execution_count": null,
   "id": "d9322c1e",
   "metadata": {},
   "outputs": [],
   "source": [
    "li = [1,2,3,4,5]\n",
    "\n",
    "# I want to change the value  2 to 7 \n",
    "\n",
    "li[1] = 7\n",
    "\n",
    "\n",
    "li"
   ]
  },
  {
   "cell_type": "code",
   "execution_count": null,
   "id": "2bbcee1a",
   "metadata": {},
   "outputs": [],
   "source": [
    "# But in string i cannot change the value because string is inmutable it cannot be change once we assign the value on that string "
   ]
  },
  {
   "cell_type": "code",
   "execution_count": 5,
   "id": "a5dca531",
   "metadata": {},
   "outputs": [
    {
     "ename": "TypeError",
     "evalue": "'str' object does not support item assignment",
     "output_type": "error",
     "traceback": [
      "\u001b[0;31m---------------------------------------------------------------------------\u001b[0m",
      "\u001b[0;31mTypeError\u001b[0m                                 Traceback (most recent call last)",
      "\u001b[0;32m/tmp/ipykernel_14809/3505692496.py\u001b[0m in \u001b[0;36m<module>\u001b[0;34m\u001b[0m\n\u001b[1;32m      2\u001b[0m \u001b[0mstri\u001b[0m \u001b[0;34m=\u001b[0m \u001b[0;34m\"shiv\"\u001b[0m\u001b[0;34m\u001b[0m\u001b[0;34m\u001b[0m\u001b[0m\n\u001b[1;32m      3\u001b[0m \u001b[0;31m# i want to change the character 's' to 'k' it cannot work\u001b[0m\u001b[0;34m\u001b[0m\u001b[0;34m\u001b[0m\u001b[0m\n\u001b[0;32m----> 4\u001b[0;31m \u001b[0mstri\u001b[0m\u001b[0;34m[\u001b[0m\u001b[0;36m0\u001b[0m\u001b[0;34m]\u001b[0m \u001b[0;34m=\u001b[0m \u001b[0;34m'k'\u001b[0m\u001b[0;34m\u001b[0m\u001b[0;34m\u001b[0m\u001b[0m\n\u001b[0m",
      "\u001b[0;31mTypeError\u001b[0m: 'str' object does not support item assignment"
     ]
    }
   ],
   "source": [
    "# for example\n",
    "stri = \"shiv\"\n",
    "# i want to change the character 's' to 'k' it cannot work \n",
    "stri[0] = 'k'"
   ]
  },
  {
   "cell_type": "code",
   "execution_count": null,
   "id": "462c5c5c",
   "metadata": {},
   "outputs": [],
   "source": [
    "# Thank You"
   ]
  }
 ],
 "metadata": {
  "kernelspec": {
   "display_name": "Python 3 (ipykernel)",
   "language": "python",
   "name": "python3"
  },
  "language_info": {
   "codemirror_mode": {
    "name": "ipython",
    "version": 3
   },
   "file_extension": ".py",
   "mimetype": "text/x-python",
   "name": "python",
   "nbconvert_exporter": "python",
   "pygments_lexer": "ipython3",
   "version": "3.10.6"
  }
 },
 "nbformat": 4,
 "nbformat_minor": 5
}
