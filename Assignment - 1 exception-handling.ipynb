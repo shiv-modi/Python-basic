{
 "cells": [
  {
   "cell_type": "markdown",
   "id": "7c64026c",
   "metadata": {},
   "source": [
    "1) What is an Exception in python? Write the differen,between Exceptions and syntax errors"
   ]
  },
  {
   "cell_type": "markdown",
   "id": "95412fa9",
   "metadata": {},
   "source": [
    "Exception is a problem that arise during execution of the program"
   ]
  },
  {
   "cell_type": "markdown",
   "id": "f39abf6d",
   "metadata": {},
   "source": [
    "In Syntax error , program cannot run when error occur inbetween in the program it stop the execution after that line \n",
    "\n",
    "while when we handle exception if error occur it run the program if error is occur or not "
   ]
  },
  {
   "cell_type": "markdown",
   "id": "e52862bb",
   "metadata": {},
   "source": [
    "2) what happens when an exception is not handled ? Explain with an example "
   ]
  },
  {
   "cell_type": "markdown",
   "id": "dd41834c",
   "metadata": {},
   "source": [
    "the runtime system will abort the program and an exception message will print to the console.\n",
    "\n",
    "for example :\n"
   ]
  },
  {
   "cell_type": "code",
   "execution_count": 16,
   "id": "4c3fab19",
   "metadata": {},
   "outputs": [
    {
     "ename": "ZeroDivisionError",
     "evalue": "division by zero",
     "output_type": "error",
     "traceback": [
      "\u001b[0;31m---------------------------------------------------------------------------\u001b[0m",
      "\u001b[0;31mZeroDivisionError\u001b[0m                         Traceback (most recent call last)",
      "\u001b[0;32m/tmp/ipykernel_14893/3653501503.py\u001b[0m in \u001b[0;36m<module>\u001b[0;34m\u001b[0m\n\u001b[1;32m      1\u001b[0m \u001b[0;32mfor\u001b[0m  \u001b[0mi\u001b[0m \u001b[0;32min\u001b[0m \u001b[0mrange\u001b[0m\u001b[0;34m(\u001b[0m\u001b[0;36m10\u001b[0m\u001b[0;34m)\u001b[0m\u001b[0;34m:\u001b[0m\u001b[0;34m\u001b[0m\u001b[0;34m\u001b[0m\u001b[0m\n\u001b[1;32m      2\u001b[0m \u001b[0;34m\u001b[0m\u001b[0m\n\u001b[0;32m----> 3\u001b[0;31m     \u001b[0;32mif\u001b[0m \u001b[0mi\u001b[0m \u001b[0;34m/\u001b[0m \u001b[0;36m0\u001b[0m\u001b[0;34m:\u001b[0m\u001b[0;34m\u001b[0m\u001b[0;34m\u001b[0m\u001b[0m\n\u001b[0m\u001b[1;32m      4\u001b[0m         \u001b[0mprint\u001b[0m\u001b[0;34m(\u001b[0m\u001b[0mi\u001b[0m\u001b[0;34m)\u001b[0m\u001b[0;34m\u001b[0m\u001b[0;34m\u001b[0m\u001b[0m\n\u001b[1;32m      5\u001b[0m     \u001b[0;32melse\u001b[0m \u001b[0;34m:\u001b[0m\u001b[0;34m\u001b[0m\u001b[0;34m\u001b[0m\u001b[0m\n",
      "\u001b[0;31mZeroDivisionError\u001b[0m: division by zero"
     ]
    }
   ],
   "source": [
    "for  i in range(10):\n",
    "    \n",
    "    if i / 0:  \n",
    "        print(i)\n",
    "    else :\n",
    "        print(i)"
   ]
  },
  {
   "cell_type": "markdown",
   "id": "c38643ba",
   "metadata": {},
   "source": [
    "except statement is used to catch and handle exception\n",
    "\n",
    "for ex : \n",
    "    except Exception  as e "
   ]
  },
  {
   "cell_type": "markdown",
   "id": "726dd1fb",
   "metadata": {},
   "source": [
    "3)Try is generally used if any exception not occur then try run else exception occur\n",
    "\n",
    "else : this will be executed once your try will execute without error\n",
    "\n",
    "finally : this will executed if exception is occur ot not"
   ]
  },
  {
   "cell_type": "markdown",
   "id": "7794280c",
   "metadata": {},
   "source": [
    "for example : "
   ]
  },
  {
   "cell_type": "code",
   "execution_count": 38,
   "id": "bed57abb",
   "metadata": {},
   "outputs": [
    {
     "name": "stdout",
     "output_type": "stream",
     "text": [
      "this is my except block [Errno 2] No such file or directory: 'text.txt'\n",
      "this code will run else try will execute or not \n"
     ]
    }
   ],
   "source": [
    "try:\n",
    "    f = open(\"text.txt\",\"r\")\n",
    "    f.write(\"write into my file\")\n",
    "except Exception as e :\n",
    "    print(\"this is my except block\" ,e)\n",
    "else :\n",
    "    f.close()\n",
    "    print(\"this will be executed once your try will execute without error\")\n",
    "finally :\n",
    "    print(\"this code will run else try will execute or not \")"
   ]
  },
  {
   "cell_type": "markdown",
   "id": "017964a2",
   "metadata": {},
   "source": [
    "Q5 Custom exception is used if we want to show exception according through our own projects related \n",
    "\n",
    "it gives flexibilty to make our own exception that developer can know according that task or project\n"
   ]
  },
  {
   "cell_type": "markdown",
   "id": "dc0457de",
   "metadata": {},
   "source": [
    "  Q-6)  "
   ]
  },
  {
   "cell_type": "code",
   "execution_count": 6,
   "id": "9e81d040",
   "metadata": {},
   "outputs": [
    {
     "name": "stdout",
     "output_type": "stream",
     "text": [
      "Enter name :shiv\n",
      "Error : First char should be uppercase\n"
     ]
    }
   ],
   "source": [
    "class validate_email(Exception):\n",
    "    def __init__(self,msg):\n",
    "        self.msg = msg\n",
    "\n",
    "def validatemail(name):\n",
    "    \n",
    "    if name[0] != name[0].upper():\n",
    "        \n",
    "        raise validate_email('Error : First char should be uppercase')\n",
    "        \n",
    "if __name__ == '__main__':\n",
    "    \n",
    "    try :\n",
    "        \n",
    "        name = input(\"Enter name :\")\n",
    "        validatemail(name)\n",
    "    except validate_email as e :\n",
    "        \n",
    "        print(e)\n",
    "    else :\n",
    "        print(\"Login Successful\")"
   ]
  },
  {
   "cell_type": "code",
   "execution_count": null,
   "id": "9f1136aa",
   "metadata": {},
   "outputs": [],
   "source": []
  }
 ],
 "metadata": {
  "kernelspec": {
   "display_name": "Python 3 (ipykernel)",
   "language": "python",
   "name": "python3"
  },
  "language_info": {
   "codemirror_mode": {
    "name": "ipython",
    "version": 3
   },
   "file_extension": ".py",
   "mimetype": "text/x-python",
   "name": "python",
   "nbconvert_exporter": "python",
   "pygments_lexer": "ipython3",
   "version": "3.10.6"
  }
 },
 "nbformat": 4,
 "nbformat_minor": 5
}
