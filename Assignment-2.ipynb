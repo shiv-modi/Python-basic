{
 "cells": [
  {
   "cell_type": "markdown",
   "id": "c43946a9",
   "metadata": {},
   "source": [
    "Q1. How do you comment code in Python? What are the different types of comments?"
   ]
  },
  {
   "cell_type": "code",
   "execution_count": 3,
   "id": "83e2f704",
   "metadata": {},
   "outputs": [
    {
     "data": {
      "text/plain": [
       "'hello world '"
      ]
     },
     "execution_count": 3,
     "metadata": {},
     "output_type": "execute_result"
    }
   ],
   "source": [
    "#single line comment \n",
    "\n",
    "\"\"\"hello world \"\"\""
   ]
  },
  {
   "cell_type": "markdown",
   "id": "c56c4268",
   "metadata": {},
   "source": [
    "2  A variable is essentially a name that represents a memory location where data is stored."
   ]
  },
  {
   "cell_type": "code",
   "execution_count": 7,
   "id": "08717337",
   "metadata": {},
   "outputs": [],
   "source": [
    "a = '123'"
   ]
  },
  {
   "cell_type": "markdown",
   "id": "2585dc89",
   "metadata": {},
   "source": [
    "Ans 3"
   ]
  },
  {
   "cell_type": "code",
   "execution_count": 8,
   "id": "c9d67058",
   "metadata": {},
   "outputs": [],
   "source": [
    "k = int(a)"
   ]
  },
  {
   "cell_type": "code",
   "execution_count": 9,
   "id": "1f14a854",
   "metadata": {},
   "outputs": [
    {
     "data": {
      "text/plain": [
       "int"
      ]
     },
     "execution_count": 9,
     "metadata": {},
     "output_type": "execute_result"
    }
   ],
   "source": [
    "type(k)"
   ]
  },
  {
   "cell_type": "markdown",
   "id": "5a55b672",
   "metadata": {},
   "source": [
    "Ans 4"
   ]
  },
  {
   "cell_type": "markdown",
   "id": "e7654b6a",
   "metadata": {},
   "source": [
    "python example.py"
   ]
  },
  {
   "cell_type": "markdown",
   "id": "4b26653f",
   "metadata": {},
   "source": [
    "Ans 5"
   ]
  },
  {
   "cell_type": "code",
   "execution_count": 11,
   "id": "9f096437",
   "metadata": {},
   "outputs": [
    {
     "data": {
      "text/plain": [
       "[2, 3]"
      ]
     },
     "execution_count": 11,
     "metadata": {},
     "output_type": "execute_result"
    }
   ],
   "source": [
    "my_list = [1,2,3,4,5]\n",
    "my_list[1:3]"
   ]
  },
  {
   "cell_type": "markdown",
   "id": "a8dc6f7d",
   "metadata": {},
   "source": [
    "Ans 6"
   ]
  },
  {
   "cell_type": "code",
   "execution_count": 13,
   "id": "e6bc2d42",
   "metadata": {},
   "outputs": [],
   "source": [
    "# represent a complex number \n",
    "a = 5+6J"
   ]
  },
  {
   "cell_type": "code",
   "execution_count": 14,
   "id": "16759188",
   "metadata": {},
   "outputs": [
    {
     "data": {
      "text/plain": [
       "complex"
      ]
     },
     "execution_count": 14,
     "metadata": {},
     "output_type": "execute_result"
    }
   ],
   "source": [
    "type(a)"
   ]
  },
  {
   "cell_type": "markdown",
   "id": "409f5d33",
   "metadata": {},
   "source": [
    "Ans 7"
   ]
  },
  {
   "cell_type": "code",
   "execution_count": 16,
   "id": "ebec0ee1",
   "metadata": {},
   "outputs": [],
   "source": [
    "age  = 25"
   ]
  },
  {
   "cell_type": "markdown",
   "id": "4a1235cd",
   "metadata": {},
   "source": [
    "Ans 8"
   ]
  },
  {
   "cell_type": "code",
   "execution_count": 17,
   "id": "c63ebf0f",
   "metadata": {},
   "outputs": [],
   "source": [
    "price  = 9.99"
   ]
  },
  {
   "cell_type": "code",
   "execution_count": 18,
   "id": "2b109ec8",
   "metadata": {},
   "outputs": [
    {
     "data": {
      "text/plain": [
       "float"
      ]
     },
     "execution_count": 18,
     "metadata": {},
     "output_type": "execute_result"
    }
   ],
   "source": [
    "type(price)"
   ]
  },
  {
   "cell_type": "markdown",
   "id": "0d8c8579",
   "metadata": {},
   "source": [
    "Ans 9"
   ]
  },
  {
   "cell_type": "code",
   "execution_count": 20,
   "id": "26dd0c23",
   "metadata": {},
   "outputs": [],
   "source": [
    "name  = 'shiv modi'"
   ]
  },
  {
   "cell_type": "code",
   "execution_count": 21,
   "id": "3b58d952",
   "metadata": {},
   "outputs": [
    {
     "name": "stdout",
     "output_type": "stream",
     "text": [
      "shiv modi\n"
     ]
    }
   ],
   "source": [
    "print(name)"
   ]
  },
  {
   "cell_type": "markdown",
   "id": "a43430da",
   "metadata": {},
   "source": [
    "Ans 10"
   ]
  },
  {
   "cell_type": "code",
   "execution_count": 22,
   "id": "127d9628",
   "metadata": {},
   "outputs": [],
   "source": [
    "str = \"Hello,World!\""
   ]
  },
  {
   "cell_type": "code",
   "execution_count": 25,
   "id": "94947418",
   "metadata": {},
   "outputs": [
    {
     "data": {
      "text/plain": [
       "'World'"
      ]
     },
     "execution_count": 25,
     "metadata": {},
     "output_type": "execute_result"
    }
   ],
   "source": [
    "str[7:12]"
   ]
  },
  {
   "cell_type": "markdown",
   "id": "d84f4581",
   "metadata": {},
   "source": [
    "Ans 11"
   ]
  },
  {
   "cell_type": "code",
   "execution_count": 27,
   "id": "b1a9549b",
   "metadata": {},
   "outputs": [],
   "source": [
    "is_student = True"
   ]
  },
  {
   "cell_type": "code",
   "execution_count": 28,
   "id": "f4b8fc4a",
   "metadata": {},
   "outputs": [
    {
     "data": {
      "text/plain": [
       "True"
      ]
     },
     "execution_count": 28,
     "metadata": {},
     "output_type": "execute_result"
    }
   ],
   "source": [
    "is_student"
   ]
  }
 ],
 "metadata": {
  "kernelspec": {
   "display_name": "Python 3 (ipykernel)",
   "language": "python",
   "name": "python3"
  },
  "language_info": {
   "codemirror_mode": {
    "name": "ipython",
    "version": 3
   },
   "file_extension": ".py",
   "mimetype": "text/x-python",
   "name": "python",
   "nbconvert_exporter": "python",
   "pygments_lexer": "ipython3",
   "version": "3.10.6"
  }
 },
 "nbformat": 4,
 "nbformat_minor": 5
}
